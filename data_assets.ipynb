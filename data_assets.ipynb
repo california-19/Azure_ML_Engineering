{
  "cells": [
    {
      "cell_type": "markdown",
      "source": [
        "# Create a Data Asset\n",
        "There are three types of data assets at Azure. URI_FILE points to a file, URI_FOLDER points to a folder and MLTABLE points to an mltable.  "
      ],
      "metadata": {
        "nteract": {
          "transient": {
            "deleting": false
          }
        }
      }
    },
    {
      "cell_type": "code",
      "source": [
        "pip show azure-ai-ml"
      ],
      "outputs": [
        {
          "output_type": "stream",
          "name": "stdout",
          "text": "Name: azure-ai-ml\nVersion: 1.16.1\nSummary: Microsoft Azure Machine Learning Client Library for Python\nHome-page: https://github.com/Azure/azure-sdk-for-python\nAuthor: Microsoft Corporation\nAuthor-email: azuresdkengsysadmins@microsoft.com\nLicense: MIT License\nLocation: /anaconda/envs/azureml_py310_sdkv2/lib/python3.10/site-packages\nRequires: azure-common, azure-core, azure-mgmt-core, azure-storage-blob, azure-storage-file-datalake, azure-storage-file-share, colorama, isodate, jsonschema, marshmallow, msrest, opencensus-ext-azure, opencensus-ext-logging, pydash, pyjwt, pyyaml, strictyaml, tqdm, typing-extensions\nRequired-by: \nNote: you may need to restart the kernel to use updated packages.\n"
        }
      ],
      "execution_count": 1,
      "metadata": {}
    },
    {
      "cell_type": "markdown",
      "source": [
        "### Connect to your Workspace\n",
        "Before doing anything, you should establish a connection with your workspace in the cloud."
      ],
      "metadata": {
        "nteract": {
          "transient": {
            "deleting": false
          }
        }
      }
    },
    {
      "cell_type": "code",
      "source": [
        "from azure.ai.ml import MLClient\n",
        "from azure.identity import DefaultAzureCredential\n",
        "\n",
        "# My subscription id, resrouce group and workspace are all in the file below.\n",
        "import config"
      ],
      "outputs": [],
      "execution_count": 1,
      "metadata": {
        "jupyter": {
          "outputs_hidden": false,
          "source_hidden": false
        },
        "nteract": {
          "transient": {
            "deleting": false
          }
        }
      }
    },
    {
      "cell_type": "code",
      "source": [
        "ml_client = MLClient(\n",
        "    DefaultAzureCredential(), config.subscription_id, config.resource_group, config.workspace\n",
        ")"
      ],
      "outputs": [],
      "execution_count": 2,
      "metadata": {
        "jupyter": {
          "outputs_hidden": false,
          "source_hidden": false
        },
        "nteract": {
          "transient": {
            "deleting": false
          }
        }
      }
    },
    {
      "cell_type": "code",
      "source": [
        "# Check your existing datastores\n",
        "stores = ml_client.datastores.list()\n",
        "for ds_name in stores:\n",
        "    print(ds_name.name)"
      ],
      "outputs": [
        {
          "output_type": "stream",
          "name": "stdout",
          "text": "workspaceblobstore\nworkspaceworkingdirectory\nworkspaceartifactstore\nworkspacefilestore\n"
        }
      ],
      "execution_count": 3,
      "metadata": {
        "jupyter": {
          "outputs_hidden": false,
          "source_hidden": false
        },
        "nteract": {
          "transient": {
            "deleting": false
          }
        }
      }
    },
    {
      "cell_type": "code",
      "source": [
        "# Check your existing datasets\n",
        "datasets = ml_client.data.list()\n",
        "for ds_name in datasets:\n",
        "    print(ds_name.name)"
      ],
      "outputs": [
        {
          "output_type": "stream",
          "name": "stdout",
          "text": "titanic_ds\ntitanic_ds2\ntitanic_ds4\n"
        }
      ],
      "execution_count": 4,
      "metadata": {}
    },
    {
      "cell_type": "markdown",
      "source": [
        "## Creating a dataset first\n",
        "I first download the data from the web, process it (dropping columns etc.), and then save it to a folder. I will register this dataset as a data asset on Azure later."
      ],
      "metadata": {
        "nteract": {
          "transient": {
            "deleting": false
          }
        }
      }
    },
    {
      "cell_type": "code",
      "source": [
        "import pandas as pd\n",
        "from sklearn.preprocessing import LabelEncoder\n",
        "\n",
        "# Reading the dataset from internet\n",
        "df = pd.read_csv('https://web.stanford.edu/class/archive/cs/cs109/cs109.1166/stuff/titanic.csv')\n",
        "\n",
        "# We need to one-hot encode the sex column drop the name column.\n",
        "\n",
        "df = pd.get_dummies(df, columns = ['Sex'], dtype=int)\n",
        "df = df.drop('Name', axis=1)\n",
        "le = LabelEncoder()\n",
        "df['Survived'] = le.fit_transform(df['Survived'])\n",
        "\n",
        "df.to_csv('data/titanic_ds.csv', index=False)"
      ],
      "outputs": [],
      "execution_count": 8,
      "metadata": {}
    },
    {
      "cell_type": "markdown",
      "source": [
        "## Creating a MLTable\n",
        "This code prepares an MLTable and makes it available for model training."
      ],
      "metadata": {
        "nteract": {
          "transient": {
            "deleting": false
          }
        }
      }
    },
    {
      "cell_type": "code",
      "source": [
        "import mltable\n",
        "from mltable import MLTableHeaders, MLTableFileEncoding, DataType\n",
        "from azure.ai.ml.entities import Data\n",
        "from azure.ai.ml.constants import AssetTypes\n",
        "\n",
        "# create paths to the data files\n",
        "paths = [{\"file\": \"data/titanic_ds.csv\"}]\n",
        "\n",
        "# create an MLTable from the data files\n",
        "tbl = mltable.from_delimited_files(\n",
        "    paths=paths,\n",
        "    delimiter=\",\",\n",
        "    header=MLTableHeaders.all_files_same_headers,\n",
        "    infer_column_types=True,\n",
        "    include_path_column=False,\n",
        "    encoding=MLTableFileEncoding.utf8,\n",
        ")\n",
        "\n",
        "# show the first few records\n",
        "print(tbl.show())\n",
        "\n",
        "# save the data loading steps in an MLTable file\n",
        "mltable_folder = \"./titanic\"\n",
        "tbl.save(mltable_folder)\n",
        "\n",
        "\n",
        "# Define the Data asset object\n",
        "my_data = Data(\n",
        "    path=mltable_folder,\n",
        "    type=AssetTypes.MLTABLE,\n",
        "    description=\"titanic data in an mltable\",\n",
        "    name=\"titanic_ds5\",\n",
        "    version='1',\n",
        ")\n",
        "\n",
        "# Create the data asset in the workspace\n",
        "ml_client.data.create_or_update(my_data)"
      ],
      "outputs": [
        {
          "output_type": "stream",
          "name": "stdout",
          "text": "    Survived  Pclass   Age  Siblings/Spouses Aboard  Parents/Children Aboard  \\\n0      False       3  22.0                        1                        0   \n1       True       1  38.0                        1                        0   \n2       True       3  26.0                        0                        0   \n3       True       1  35.0                        1                        0   \n4      False       3  35.0                        0                        0   \n5      False       3  27.0                        0                        0   \n6      False       1  54.0                        0                        0   \n7      False       3   2.0                        3                        1   \n8       True       3  27.0                        0                        2   \n9       True       2  14.0                        1                        0   \n10      True       3   4.0                        1                        1   \n11      True       1  58.0                        0                        0   \n12     False       3  20.0                        0                        0   \n13     False       3  39.0                        1                        5   \n14     False       3  14.0                        0                        0   \n15      True       2  55.0                        0                        0   \n16     False       3   2.0                        4                        1   \n17      True       2  23.0                        0                        0   \n18     False       3  31.0                        1                        0   \n19      True       3  22.0                        0                        0   \n\n       Fare  Sex_female  Sex_male  \n0    7.2500       False      True  \n1   71.2833        True     False  \n2    7.9250        True     False  \n3   53.1000        True     False  \n4    8.0500       False      True  \n5    8.4583       False      True  \n6   51.8625       False      True  \n7   21.0750       False      True  \n8   11.1333        True     False  \n9   30.0708        True     False  \n10  16.7000        True     False  \n11  26.5500        True     False  \n12   8.0500       False      True  \n13  31.2750       False      True  \n14   7.8542        True     False  \n15  16.0000        True     False  \n16  29.1250       False      True  \n17  13.0000       False      True  \n18  18.0000        True     False  \n19   7.2250        True     False  \n"
        },
        {
          "output_type": "stream",
          "name": "stderr",
          "text": "Uploading titanic (0.0 MBs): 100%|██████████| 328/328 [00:00<00:00, 17654.34it/s]\n\n\n"
        },
        {
          "output_type": "execute_result",
          "execution_count": 16,
          "data": {
            "text/plain": "Data({'path': 'azureml://subscriptions/a54b1e51-86a2-4073-b2a5-1a79c43cf955/resourcegroups/model_dep/workspaces/ml-workspace/datastores/workspaceblobstore/paths/LocalUpload/d9e580932cff2df8d3d5af3abd16e778/titanic/', 'skip_validation': False, 'mltable_schema_url': None, 'referenced_uris': ['../data/titanic_ds.csv'], 'type': 'mltable', 'is_anonymous': False, 'auto_increment_version': False, 'auto_delete_setting': None, 'name': 'titanic_ds5', 'description': 'titanic data in an mltable', 'tags': {}, 'properties': {}, 'print_as_yaml': False, 'id': '/subscriptions/a54b1e51-86a2-4073-b2a5-1a79c43cf955/resourceGroups/model_dep/providers/Microsoft.MachineLearningServices/workspaces/ml-workspace/data/titanic_ds5/versions/1', 'Resource__source_path': '', 'base_path': '/mnt/batch/tasks/shared/LS_root/mounts/clusters/sckaraman1/code/Users/sckaraman', 'creation_context': <azure.ai.ml.entities._system_data.SystemData object at 0x7f8a5e753010>, 'serialize': <msrest.serialization.Serializer object at 0x7f8a5e752fb0>, 'version': '1', 'latest_version': None, 'datastore': None})"
          },
          "metadata": {}
        }
      ],
      "execution_count": 16,
      "metadata": {
        "jupyter": {
          "outputs_hidden": true,
          "source_hidden": false
        },
        "nteract": {
          "transient": {
            "deleting": false
          }
        }
      }
    },
    {
      "cell_type": "code",
      "source": [
        "# Here is how to create an MLTable from a local file\n",
        "\n",
        "from azure.ai.ml.entities import Data\n",
        "from azure.ai.ml.constants import AssetTypes\n",
        "\n",
        "local_path = 'data/titanic'\n",
        "\n",
        "my_data = Data(\n",
        "    path=local_path,\n",
        "    type=AssetTypes.MLTABLE,\n",
        "    description=\"MLTable pointing to titanic_ds.csv in data folder\",\n",
        "    name=\"titanic_ds2\"\n",
        ")\n",
        "\n",
        "ml_client.data.create_or_update(my_data)"
      ],
      "outputs": [
        {
          "output_type": "execute_result",
          "execution_count": 11,
          "data": {
            "text/plain": "Data({'path': 'azureml://subscriptions/a54b1e51-86a2-4073-b2a5-1a79c43cf955/resourcegroups/model_dep/workspaces/ml-workspace/datastores/workspaceblobstore/paths/LocalUpload/4205165e1818a7060b11cd2dad95f4fe/titanic/', 'skip_validation': False, 'mltable_schema_url': None, 'referenced_uris': ['../titanic_ds.csv'], 'type': 'mltable', 'is_anonymous': False, 'auto_increment_version': False, 'auto_delete_setting': None, 'name': 'titanic_ds2', 'description': 'MLTable pointing to titanic_ds.csv in data folder', 'tags': {}, 'properties': {}, 'print_as_yaml': False, 'id': '/subscriptions/a54b1e51-86a2-4073-b2a5-1a79c43cf955/resourceGroups/model_dep/providers/Microsoft.MachineLearningServices/workspaces/ml-workspace/data/titanic_ds2/versions/1', 'Resource__source_path': '', 'base_path': '/mnt/batch/tasks/shared/LS_root/mounts/clusters/sckaraman1/code/Users/sckaraman', 'creation_context': <azure.ai.ml.entities._system_data.SystemData object at 0x7f88df64f550>, 'serialize': <msrest.serialization.Serializer object at 0x7f88df64f250>, 'version': '1', 'latest_version': None, 'datastore': None})"
          },
          "metadata": {}
        }
      ],
      "execution_count": 11,
      "metadata": {}
    }
  ],
  "metadata": {
    "kernelspec": {
      "display_name": "Python 3.10 - SDK v2",
      "language": "python",
      "name": "python310-sdkv2"
    },
    "language_info": {
      "codemirror_mode": {
        "name": "ipython",
        "version": 3
      },
      "file_extension": ".py",
      "mimetype": "text/x-python",
      "name": "python",
      "nbconvert_exporter": "python",
      "pygments_lexer": "ipython3",
      "version": "3.10.14"
    },
    "microsoft": {
      "ms_spell_check": {
        "ms_spell_check_language": "en"
      }
    },
    "nteract": {
      "version": "nteract-front-end@1.0.0"
    }
  },
  "nbformat": 4,
  "nbformat_minor": 2
}